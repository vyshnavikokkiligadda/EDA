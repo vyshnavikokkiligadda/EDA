{
 "cells": [
  {
   "cell_type": "markdown",
   "id": "8544721d",
   "metadata": {},
   "source": [
    "#### EDA Steps ####\n",
    "\n",
    "**Step-1**: **Read the data**\n",
    "\n",
    "**Step-2**: **Data quick checks**\n",
    "          **a) dtypes colummns shapes size info**\n",
    "    \n",
    "**Step-3**: **Convert categorical columns**\n",
    "\n",
    "            **Numerical columns names separately**\n",
    "        \n",
    "**Step-4**: **You need fill the missing values**\n",
    "    \n",
    "**Step-5**: Categorical data anaysis\n",
    "            **Unique**\n",
    "            **nunique**\n",
    "            **value count** \n",
    "            **bar chart**\n",
    "            **count plot**\n",
    "            **pie chart**\n",
    "            \n",
    "**Step-6**: **Numerical data analysis**\n",
    "          Describe function\n",
    "          **Histogram\n",
    "          Data skew**\n",
    "        \n",
    "**Step-7**: Box plot creation\n",
    "            Outlier analysis\n",
    "          \n",
    "**Step-8**: Transformation methods\n",
    " \n",
    "**Step-9**: Encoding methods\n",
    "            map\n",
    "            np.where\n",
    "            LabelEncoder\n",
    "            onehot encoder\n",
    "         \n",
    "**Step-10**: Scaling methods\n",
    "             Z\n",
    "             minmax scalar\n"
   ]
  },
  {
   "cell_type": "code",
   "execution_count": null,
   "id": "20745953",
   "metadata": {},
   "outputs": [],
   "source": [
    "columns ======== features ============== variables\n",
    "columns are two types\n",
    "input columns                        output columns\n",
    "Independent                          dependent\n",
    "                                     Target column"
   ]
  },
  {
   "cell_type": "code",
   "execution_count": null,
   "id": "9a9da8c6",
   "metadata": {},
   "outputs": [],
   "source": [
    "Rows =========== Fields ======== instances ======= tuples\n",
    "values"
   ]
  },
  {
   "cell_type": "code",
   "execution_count": null,
   "id": "b18eae27",
   "metadata": {},
   "outputs": [],
   "source": []
  }
 ],
 "metadata": {
  "kernelspec": {
   "display_name": "Python 3 (ipykernel)",
   "language": "python",
   "name": "python3"
  },
  "language_info": {
   "codemirror_mode": {
    "name": "ipython",
    "version": 3
   },
   "file_extension": ".py",
   "mimetype": "text/x-python",
   "name": "python",
   "nbconvert_exporter": "python",
   "pygments_lexer": "ipython3",
   "version": "3.11.5"
  }
 },
 "nbformat": 4,
 "nbformat_minor": 5
}
